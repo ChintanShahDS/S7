{
  "cells": [
    {
      "cell_type": "markdown",
      "metadata": {
        "id": "n09vaEgP6pLj"
      },
      "source": [
        "CODE BLOCK: 1"
      ]
    },
    {
      "cell_type": "markdown",
      "metadata": {
        "id": "Df6R_VinBXGE"
      },
      "source": [
        "<!--\n",
        ">**This is Bold**\n",
        ">>*This is Italics*\n",
        ">>>- Simple statement\n",
        ">>> - `string`\n",
        ">>>> - $ mathematical symbols $\n",
        ">>>> 1. Number 1\n",
        ">>>> 2. Number 2\n",
        "\n",
        "\n",
        "&#x25BA;\n",
        "\n",
        "\n",
        "*** -->"
      ]
    },
    {
      "cell_type": "markdown",
      "metadata": {
        "id": "DwPH_oyhBXGF"
      },
      "source": [
        "# Session 7 - Assignment\n",
        "## Basic expectations\n",
        "- \\> = 99.4% accuracy\n",
        "- < = 8000\n",
        "- < = 15 epochs\n",
        "\n",
        "## Step 2 - Lighter model\n",
        "\n",
        "### Target:\n",
        "- Make the model lighter having less number of parameters\n",
        "\n",
        "### Results:\n",
        "- Epochs: 15\n",
        "- Parameters: 8,716\n",
        "- Training Batch size: 128\n",
        "- Testing Batch size: 2048\n",
        "- Training\n",
        "  - Loss=0.0229\n",
        "  - Batch_id=468\n",
        "  - Accuracy=98.84%\n",
        "- Testing\n",
        "  - Average loss: 0.0469\n",
        "  - Accuracy: 9859/10000 (98.59%)\n",
        "\n",
        "### Analysis:\n",
        "- Model is the size of what is needed\n",
        "- Accuracy is lower\n",
        "- Model is overfitting slightly\n",
        "- Next try Batch Normalization and Regularization and GAP"
      ]
    },
    {
      "cell_type": "markdown",
      "metadata": {
        "id": "7dsrOigmBXGG"
      },
      "source": [
        "### [1. Import appropriate modules required in this file](#section-1)\n",
        "- import model: importing the code written in model.py that is kept in path of current working directory\n",
        "- import utils: Similarly importing code in utils.py"
      ]
    },
    {
      "cell_type": "code",
      "execution_count": 1,
      "metadata": {
        "id": "7FJ13JnGo0QI"
      },
      "outputs": [],
      "source": [
        "# !pip install torchsummary"
      ]
    },
    {
      "cell_type": "code",
      "execution_count": 2,
      "metadata": {
        "id": "6PlbomWY3RSq"
      },
      "outputs": [],
      "source": [
        "import torch\n",
        "import torch.nn as nn\n",
        "import torch.optim as optim\n",
        "import torch.nn.functional as F\n",
        "from torchvision import datasets, transforms\n",
        "from torchsummary import summary\n",
        "from tqdm import tqdm\n",
        "import matplotlib.pyplot as plt"
      ]
    },
    {
      "cell_type": "markdown",
      "metadata": {
        "id": "VjBHHQVA6sXt"
      },
      "source": [
        "CODE BLOCK: 2"
      ]
    },
    {
      "cell_type": "markdown",
      "metadata": {
        "id": "Dw9WOPNVBXGK"
      },
      "source": [
        "### [2. Check if GPU (CUDA) or CPU](#section-2)\n",
        "- Cuda availablbility check to ensure using GPU if available for the network\n",
        "- Taking the value into device variable if cuda (GPU) or only CPU"
      ]
    },
    {
      "cell_type": "code",
      "execution_count": 3,
      "metadata": {
        "colab": {
          "base_uri": "https://localhost:8080/"
        },
        "id": "94BxVVBP3WwS",
        "outputId": "d9c5d927-6c70-4684-d139-a864f5364be4"
      },
      "outputs": [
        {
          "name": "stdout",
          "output_type": "stream",
          "text": [
            "CUDA Available? True\n"
          ]
        }
      ],
      "source": [
        "SEED = 1\n",
        "\n",
        "use_cuda = torch.cuda.is_available()\n",
        "print(\"CUDA Available?\", use_cuda)\n",
        "device = torch.device(\"cuda\" if use_cuda else \"cpu\")\n",
        "\n",
        "# For reproducibility\n",
        "torch.manual_seed(SEED)\n",
        "\n",
        "if device==\"cuda\":\n",
        "    torch.cuda.manual_seed(SEED)"
      ]
    },
    {
      "cell_type": "markdown",
      "metadata": {
        "id": "3UHq59Sw6tmW"
      },
      "source": [
        "CODE BLOCK: 3"
      ]
    },
    {
      "cell_type": "markdown",
      "metadata": {
        "id": "q83m4W4eLfBd"
      },
      "source": [
        "### [3. Data transforms for training and testing](#section-3)\n",
        "- Transforms specific to the training and testing\n",
        "- Training to include different transformations for the model to learn\n",
        "- Testing not to have the same to ensure validation is on normal set"
      ]
    },
    {
      "cell_type": "code",
      "execution_count": 4,
      "metadata": {
        "id": "OVfqiUyyLfBe"
      },
      "outputs": [],
      "source": [
        "# Train data transformations\n",
        "train_transforms = transforms.Compose([\n",
        "    transforms.ToTensor(),\n",
        "    transforms.Normalize((0.1307,), (0.3081,)),\n",
        "    ])\n",
        "\n",
        "# Test data transformations\n",
        "test_transforms = transforms.Compose([\n",
        "    transforms.ToTensor(),\n",
        "    transforms.Normalize((0.1307,), (0.3081,))\n",
        "    ])"
      ]
    },
    {
      "cell_type": "markdown",
      "metadata": {
        "id": "gK3NQ6U6BXGM"
      },
      "source": [
        "### [4. Getting the MNIST train and test dataset from torchvision datasets library](#section-4)\n",
        "- Already separated datasets for train and test\n",
        "- train with *??* records and test with *10000* records\n",
        "- Marking train as True of False decides the train vs test data sets\n",
        "- The transforms are being loaded from utils file\n",
        "- transforms being done on train but not on test"
      ]
    },
    {
      "cell_type": "code",
      "execution_count": 5,
      "metadata": {
        "id": "JB79ZYW13-AO"
      },
      "outputs": [],
      "source": [
        "train = datasets.MNIST('../data', train=True, download=True, transform=train_transforms)\n",
        "test = datasets.MNIST('../data', train=False, download=True, transform=test_transforms)"
      ]
    },
    {
      "cell_type": "markdown",
      "metadata": {
        "id": "_PKSHxto6116"
      },
      "source": [
        "CODE BLOCK: 5"
      ]
    },
    {
      "cell_type": "markdown",
      "metadata": {
        "id": "gjMoEkUJBXGY"
      },
      "source": [
        "### [5. Data loader setup for Training and Testing](#section-5)\n",
        "- Batch size definition - Keeping separate for Training and Testing\n",
        "- Training lower for better training and Testing higher for faster validation\n",
        "- Data loader definition"
      ]
    },
    {
      "cell_type": "code",
      "execution_count": 6,
      "metadata": {
        "id": "avCKK1uL4A68"
      },
      "outputs": [],
      "source": [
        "train_batch_size = 128\n",
        "test_batch_size = 2048"
      ]
    },
    {
      "cell_type": "code",
      "execution_count": 7,
      "metadata": {
        "colab": {
          "base_uri": "https://localhost:8080/"
        },
        "id": "uqXVzK3VBXGZ",
        "outputId": "8d7c5850-aa0e-47b5-91fb-429a44906d32"
      },
      "outputs": [
        {
          "name": "stderr",
          "output_type": "stream",
          "text": [
            "/usr/local/lib/python3.10/dist-packages/torch/utils/data/dataloader.py:557: UserWarning: This DataLoader will create 4 worker processes in total. Our suggested max number of worker in current system is 2, which is smaller than what this DataLoader is going to create. Please be aware that excessive worker creation might get DataLoader running slow or even freeze, lower the worker number to avoid potential slowness/freeze if necessary.\n",
            "  warnings.warn(_create_warning_msg(\n"
          ]
        }
      ],
      "source": [
        "# train_args = {'batch_size': train_batch_size, 'shuffle': True, 'num_workers': 2, 'pin_memory': True}\n",
        "# test_args = {'batch_size': test_batch_size, 'shuffle': True, 'num_workers': 2, 'pin_memory': True}\n",
        "kwargs = {'shuffle': True, 'num_workers': 4, 'pin_memory': True}\n",
        "\n",
        "train_loader = torch.utils.data.DataLoader(train, batch_size=train_batch_size, **kwargs)\n",
        "test_loader = torch.utils.data.DataLoader(test, batch_size=test_batch_size, **kwargs)"
      ]
    },
    {
      "cell_type": "markdown",
      "metadata": {
        "id": "Hi_0rfq56-29"
      },
      "source": [
        "CODE BLOCK: 6"
      ]
    },
    {
      "cell_type": "markdown",
      "metadata": {
        "id": "cnrOq8wMBXGa"
      },
      "source": [
        "### [6. Data Visualization](#section-6)\n",
        "- Visualization of data to understand the images and corresponding labels\n",
        "- Also gives an understanding of the dataloader like Shuffle, etc."
      ]
    },
    {
      "cell_type": "code",
      "execution_count": 8,
      "metadata": {
        "id": "Hx7QkLcw4Epc"
      },
      "outputs": [],
      "source": [
        "# # We'd need to convert it into Numpy! Remember above we have converted it into tensors already\n",
        "# train_data = train.train_data\n",
        "# train_data = train.transform(train_data.numpy())\n",
        "\n",
        "# print('[Train]')\n",
        "# print(' - Numpy Shape:', train.train_data.cpu().numpy().shape)\n",
        "# print(' - Tensor Shape:', train.train_data.size())\n",
        "# print(' - min:', torch.min(train_data))\n",
        "# print(' - max:', torch.max(train_data))\n",
        "# print(' - mean:', torch.mean(train_data))\n",
        "# print(' - std:', torch.std(train_data))\n",
        "# print(' - var:', torch.var(train_data))\n",
        "\n",
        "# dataiter = iter(train_loader)\n",
        "# images, labels = next(dataiter)\n",
        "\n",
        "# print(images.shape)\n",
        "# print(labels.shape)\n",
        "\n",
        "# # Let's visualize some of the images\n",
        "# %matplotlib inline\n",
        "\n",
        "# batch_data, batch_label = next(iter(train_loader))\n",
        "\n",
        "# fig = plt.figure()\n",
        "\n",
        "# num_of_images = 60\n",
        "# for index in range(1, num_of_images + 1):\n",
        "#     plt.subplot(6, 10, index)\n",
        "#     plt.axis('off')\n",
        "#     plt.imshow(images[index].numpy().squeeze(), cmap='gray_r')"
      ]
    },
    {
      "cell_type": "markdown",
      "metadata": {
        "id": "09GYKBGRAT5M"
      },
      "source": [
        "CODE BLOCK: 10"
      ]
    },
    {
      "cell_type": "markdown",
      "metadata": {
        "id": "NLVQ9d8PBXGb"
      },
      "source": [
        "### [7. Model training](#section-7)\n",
        "- Loading the model on the right device - CUDA or CPU\n",
        "- Setting up the right parameters like epochs, optimizer and scheduler for the training\n",
        "- Running the training and validating the output against Test dataset\n",
        "- While doing that also storing the loss and accuracy results for each epoch for understanding"
      ]
    },
    {
      "cell_type": "code",
      "execution_count": 9,
      "metadata": {
        "id": "7du4zM474LvT"
      },
      "outputs": [],
      "source": [
        "# Data to plot accuracy and loss graphs\n",
        "train_losses = []\n",
        "test_losses = []\n",
        "train_accs = []\n",
        "test_accs = []\n",
        "\n",
        "test_incorrect_pred = {'images': [], 'ground_truths': [], 'predicted_vals': []}"
      ]
    },
    {
      "cell_type": "code",
      "execution_count": 10,
      "metadata": {
        "id": "Q-8TQ7hipb0s"
      },
      "outputs": [],
      "source": [
        "debug = True\n",
        "# Our base model\n",
        "class Net2(nn.Module):\n",
        "    def __init__(self):\n",
        "        super(Net2, self).__init__()\n",
        "        # Input Block\n",
        "        self.convblock3_1 = nn.Sequential(\n",
        "            nn.Conv2d(in_channels=1, out_channels=8, kernel_size=(3, 3), padding=0, bias=False),\n",
        "            nn.ReLU()\n",
        "        ) # output_size = 26\n",
        "\n",
        "        # CONVOLUTION BLOCK 1\n",
        "        self.convblock3_2 = nn.Sequential(\n",
        "            nn.Conv2d(in_channels=8, out_channels=8, kernel_size=(3, 3), padding=0, bias=False),\n",
        "            nn.ReLU()\n",
        "        ) # output_size = 24\n",
        "        self.convblock3_3 = nn.Sequential(\n",
        "            nn.Conv2d(in_channels=8, out_channels=16, kernel_size=(3, 3), padding=0, bias=False),\n",
        "            nn.ReLU()\n",
        "        ) # output_size = 22\n",
        "\n",
        "        # TRANSITION BLOCK 1\n",
        "        self.pool1 = nn.MaxPool2d(2, 2) # output_size = 11\n",
        "        self.convblock1_4 = nn.Sequential(\n",
        "            nn.Conv2d(in_channels=16, out_channels=8, kernel_size=(1, 1), padding=0, bias=False),\n",
        "            nn.ReLU()\n",
        "        ) # output_size = 11\n",
        "\n",
        "        # CONVOLUTION BLOCK 2\n",
        "        self.convblock3_5 = nn.Sequential(\n",
        "            nn.Conv2d(in_channels=8, out_channels=8, kernel_size=(3, 3), padding=0, bias=False),\n",
        "            nn.ReLU()\n",
        "        ) # output_size = 9\n",
        "        self.convblock3_6 = nn.Sequential(\n",
        "            nn.Conv2d(in_channels=8, out_channels=16, kernel_size=(3, 3), padding=0, bias=False),\n",
        "            nn.ReLU()\n",
        "        ) # output_size = 7\n",
        "\n",
        "        # OUTPUT BLOCK\n",
        "        self.convblock1_7 = nn.Sequential(\n",
        "            nn.Conv2d(in_channels=16, out_channels=10, kernel_size=(1, 1), padding=0, bias=False),\n",
        "            nn.ReLU()\n",
        "        ) # output_size = 7\n",
        "\n",
        "        self.fc1 = nn.Linear(490, 10, bias=False) # 7 * 7 * 10\n",
        "\n",
        "    def forward(self, x):\n",
        "        if (debug == True):\n",
        "          print(f\"Start: {x.shape}\")\n",
        "        x = self.convblock3_1(x)  # channel size 28 > 26  RF 1 > 3    J 1 > 1\n",
        "        if (debug == True):\n",
        "          print(f\"Conv3_1: {x.shape}\")\n",
        "        x = self.convblock3_2(x)  # channel size 26 > 24  RF 3 > 5    J 1 > 1\n",
        "        if (debug == True):\n",
        "          print(f\"Conv3_2: {x.shape}\")\n",
        "        x = self.convblock3_3(x)  # channel size 24 > 22  RF 5 > 7    J 1 > 1\n",
        "        if (debug == True):\n",
        "          print(f\"Conv3_3: {x.shape}\")\n",
        "        x = self.pool1(x)         # channel size 22 > 11  RF 7 > 8    J 1 > 2\n",
        "        if (debug == True):\n",
        "          print(f\"Pool1: {x.shape}\")\n",
        "        x = self.convblock1_4(x)  # channel size 11 > 11  RF 8 > 8    J 2 > 2\n",
        "        if (debug == True):\n",
        "          print(f\"Conv1_4: {x.shape}\")\n",
        "        x = self.convblock3_5(x)  # channel size 11 > 9   RF 8 > 12   J 2 > 2\n",
        "        if (debug == True):\n",
        "          print(f\"Conv3_5: {x.shape}\")\n",
        "        x = self.convblock3_6(x)  # channel size 9 > 7    RF 12 > 16  J 2 > 2\n",
        "        if (debug == True):\n",
        "          print(f\"Conv3_6: {x.shape}\")\n",
        "        x = self.convblock1_7(x)  # channel size 7 > 7    RF 16 > 16  J 2 > 2\n",
        "        if (debug == True):\n",
        "          print(f\"Conv1_7: {x.shape}\")\n",
        "        x = x.view(-1, 490)        # 7 * 7 * 10\n",
        "        if (debug == True):\n",
        "          print(f\"Flatten: {x.shape}\")\n",
        "        x = self.fc1(x)\n",
        "        if (debug == True):\n",
        "          print(f\"FC1: {x.shape}\")\n",
        "        return F.log_softmax(x, dim=-1)"
      ]
    },
    {
      "cell_type": "code",
      "execution_count": 11,
      "metadata": {
        "colab": {
          "base_uri": "https://localhost:8080/"
        },
        "id": "l2t2GJ-fp4iw",
        "outputId": "9cf3435a-dbdf-4a3b-a5be-1e555df2cf94"
      },
      "outputs": [
        {
          "name": "stdout",
          "output_type": "stream",
          "text": [
            "Start: torch.Size([2, 1, 28, 28])\n",
            "Conv3_1: torch.Size([2, 8, 26, 26])\n",
            "Conv3_2: torch.Size([2, 8, 24, 24])\n",
            "Conv3_3: torch.Size([2, 16, 22, 22])\n",
            "Pool1: torch.Size([2, 16, 11, 11])\n",
            "Conv1_4: torch.Size([2, 8, 11, 11])\n",
            "Conv3_5: torch.Size([2, 8, 9, 9])\n",
            "Conv3_6: torch.Size([2, 16, 7, 7])\n",
            "Conv1_7: torch.Size([2, 10, 7, 7])\n",
            "Flatten: torch.Size([2, 490])\n",
            "FC1: torch.Size([2, 10])\n",
            "----------------------------------------------------------------\n",
            "        Layer (type)               Output Shape         Param #\n",
            "================================================================\n",
            "            Conv2d-1            [-1, 8, 26, 26]              72\n",
            "              ReLU-2            [-1, 8, 26, 26]               0\n",
            "            Conv2d-3            [-1, 8, 24, 24]             576\n",
            "              ReLU-4            [-1, 8, 24, 24]               0\n",
            "            Conv2d-5           [-1, 16, 22, 22]           1,152\n",
            "              ReLU-6           [-1, 16, 22, 22]               0\n",
            "         MaxPool2d-7           [-1, 16, 11, 11]               0\n",
            "            Conv2d-8            [-1, 8, 11, 11]             128\n",
            "              ReLU-9            [-1, 8, 11, 11]               0\n",
            "           Conv2d-10              [-1, 8, 9, 9]             576\n",
            "             ReLU-11              [-1, 8, 9, 9]               0\n",
            "           Conv2d-12             [-1, 16, 7, 7]           1,152\n",
            "             ReLU-13             [-1, 16, 7, 7]               0\n",
            "           Conv2d-14             [-1, 10, 7, 7]             160\n",
            "             ReLU-15             [-1, 10, 7, 7]               0\n",
            "           Linear-16                   [-1, 10]           4,900\n",
            "================================================================\n",
            "Total params: 8,716\n",
            "Trainable params: 8,716\n",
            "Non-trainable params: 0\n",
            "----------------------------------------------------------------\n",
            "Input size (MB): 0.00\n",
            "Forward/backward pass size (MB): 0.33\n",
            "Params size (MB): 0.03\n",
            "Estimated Total Size (MB): 0.37\n",
            "----------------------------------------------------------------\n"
          ]
        }
      ],
      "source": [
        "mymodel = Net2().to(device)\n",
        "\n",
        "summary(mymodel, input_size=(1, 28, 28))"
      ]
    },
    {
      "cell_type": "code",
      "execution_count": 12,
      "metadata": {
        "id": "DCamvSRWpyvL"
      },
      "outputs": [],
      "source": [
        "def GetCorrectPredCount(pPrediction, pLabels):\n",
        "  return pPrediction.argmax(dim=1).eq(pLabels).sum().item()\n",
        "\n",
        "def train(model, device, train_loader, optimizer, criterion):\n",
        "  model.train()\n",
        "  pbar = tqdm(train_loader)\n",
        "\n",
        "  train_loss = 0\n",
        "  correct = 0\n",
        "  processed = 0\n",
        "\n",
        "  for batch_idx, (data, target) in enumerate(pbar):\n",
        "    data, target = data.to(device), target.to(device)\n",
        "    optimizer.zero_grad()\n",
        "\n",
        "    # Predict\n",
        "    pred = model(data)\n",
        "\n",
        "    # Calculate loss\n",
        "    loss = criterion(pred, target)\n",
        "    train_loss+=loss.item()\n",
        "\n",
        "    # Backpropagation\n",
        "    loss.backward()\n",
        "    optimizer.step()\n",
        "\n",
        "    correct += GetCorrectPredCount(pred, target)\n",
        "    processed += len(data)\n",
        "\n",
        "    pbar.set_description(desc= f'Train: Loss={loss.item():0.4f} Batch_id={batch_idx} Accuracy={100*correct/processed:0.2f}')\n",
        "\n",
        "  train_acc= 100*correct/processed\n",
        "  # train_losses.append(train_loss/len(train_loader))\n",
        "  train_loss = train_loss/len(train_loader)\n",
        "\n",
        "  return train_acc, train_loss\n",
        "\n",
        "def test(model, device, test_loader, criterion):\n",
        "    model.eval()\n",
        "\n",
        "    test_loss = 0\n",
        "    correct = 0\n",
        "\n",
        "    with torch.no_grad():\n",
        "        for batch_idx, (data, target) in enumerate(test_loader):\n",
        "            data, target = data.to(device), target.to(device)\n",
        "\n",
        "            output = model(data)\n",
        "            test_loss += criterion(output, target, reduction='sum').item()  # sum up batch loss\n",
        "\n",
        "            correct += GetCorrectPredCount(output, target)\n",
        "\n",
        "\n",
        "    test_loss /= len(test_loader.dataset)\n",
        "    test_acc = (100. * correct / len(test_loader.dataset))\n",
        "    # test_losses.append(test_loss)\n",
        "\n",
        "    print('Test set: Average loss: {:.4f}, Accuracy: {}/{} ({:.2f}%)\\n'.format(\n",
        "        test_loss, correct, len(test_loader.dataset),\n",
        "        100. * correct / len(test_loader.dataset)))\n",
        "    return test_acc, test_loss"
      ]
    },
    {
      "cell_type": "code",
      "execution_count": 13,
      "metadata": {
        "colab": {
          "base_uri": "https://localhost:8080/"
        },
        "id": "Owqiet9M4TV7",
        "outputId": "53edd804-d02e-4b94-fa5f-8bf4e9dac832"
      },
      "outputs": [
        {
          "name": "stdout",
          "output_type": "stream",
          "text": [
            "Epoch 1\n"
          ]
        },
        {
          "name": "stderr",
          "output_type": "stream",
          "text": [
            "Train: Loss=0.4073 Batch_id=468 Accuracy=41.05: 100%|██████████| 469/469 [00:20<00:00, 23.28it/s]\n"
          ]
        },
        {
          "name": "stdout",
          "output_type": "stream",
          "text": [
            "Test set: Average loss: 0.2752, Accuracy: 9187/10000 (91.87%)\n",
            "\n",
            "Epoch 2\n"
          ]
        },
        {
          "name": "stderr",
          "output_type": "stream",
          "text": [
            "Train: Loss=0.1794 Batch_id=468 Accuracy=93.76: 100%|██████████| 469/469 [00:15<00:00, 29.46it/s]\n"
          ]
        },
        {
          "name": "stdout",
          "output_type": "stream",
          "text": [
            "Test set: Average loss: 0.1425, Accuracy: 9578/10000 (95.78%)\n",
            "\n",
            "Epoch 3\n"
          ]
        },
        {
          "name": "stderr",
          "output_type": "stream",
          "text": [
            "Train: Loss=0.1107 Batch_id=468 Accuracy=96.00: 100%|██████████| 469/469 [00:16<00:00, 29.02it/s]\n"
          ]
        },
        {
          "name": "stdout",
          "output_type": "stream",
          "text": [
            "Test set: Average loss: 0.1172, Accuracy: 9631/10000 (96.31%)\n",
            "\n",
            "Epoch 4\n"
          ]
        },
        {
          "name": "stderr",
          "output_type": "stream",
          "text": [
            "Train: Loss=0.0568 Batch_id=468 Accuracy=97.00: 100%|██████████| 469/469 [00:15<00:00, 30.15it/s]\n"
          ]
        },
        {
          "name": "stdout",
          "output_type": "stream",
          "text": [
            "Test set: Average loss: 0.0829, Accuracy: 9727/10000 (97.27%)\n",
            "\n",
            "Epoch 5\n"
          ]
        },
        {
          "name": "stderr",
          "output_type": "stream",
          "text": [
            "Train: Loss=0.0292 Batch_id=468 Accuracy=97.53: 100%|██████████| 469/469 [00:15<00:00, 29.87it/s]\n"
          ]
        },
        {
          "name": "stdout",
          "output_type": "stream",
          "text": [
            "Test set: Average loss: 0.0827, Accuracy: 9743/10000 (97.43%)\n",
            "\n",
            "Epoch 6\n"
          ]
        },
        {
          "name": "stderr",
          "output_type": "stream",
          "text": [
            "Train: Loss=0.0598 Batch_id=468 Accuracy=97.81: 100%|██████████| 469/469 [00:16<00:00, 27.72it/s]\n"
          ]
        },
        {
          "name": "stdout",
          "output_type": "stream",
          "text": [
            "Test set: Average loss: 0.0640, Accuracy: 9788/10000 (97.88%)\n",
            "\n",
            "Epoch 7\n"
          ]
        },
        {
          "name": "stderr",
          "output_type": "stream",
          "text": [
            "Train: Loss=0.0955 Batch_id=468 Accuracy=98.07: 100%|██████████| 469/469 [00:15<00:00, 29.90it/s]\n"
          ]
        },
        {
          "name": "stdout",
          "output_type": "stream",
          "text": [
            "Test set: Average loss: 0.0628, Accuracy: 9798/10000 (97.98%)\n",
            "\n",
            "Epoch 8\n"
          ]
        },
        {
          "name": "stderr",
          "output_type": "stream",
          "text": [
            "Train: Loss=0.0274 Batch_id=468 Accuracy=98.22: 100%|██████████| 469/469 [00:15<00:00, 29.37it/s]\n"
          ]
        },
        {
          "name": "stdout",
          "output_type": "stream",
          "text": [
            "Test set: Average loss: 0.0552, Accuracy: 9823/10000 (98.23%)\n",
            "\n",
            "Epoch 9\n"
          ]
        },
        {
          "name": "stderr",
          "output_type": "stream",
          "text": [
            "Train: Loss=0.0211 Batch_id=468 Accuracy=98.35: 100%|██████████| 469/469 [00:15<00:00, 30.14it/s]\n"
          ]
        },
        {
          "name": "stdout",
          "output_type": "stream",
          "text": [
            "Test set: Average loss: 0.0594, Accuracy: 9820/10000 (98.20%)\n",
            "\n",
            "Epoch 10\n"
          ]
        },
        {
          "name": "stderr",
          "output_type": "stream",
          "text": [
            "Train: Loss=0.0427 Batch_id=468 Accuracy=98.44: 100%|██████████| 469/469 [00:15<00:00, 29.78it/s]\n"
          ]
        },
        {
          "name": "stdout",
          "output_type": "stream",
          "text": [
            "Test set: Average loss: 0.0719, Accuracy: 9781/10000 (97.81%)\n",
            "\n",
            "Epoch 11\n"
          ]
        },
        {
          "name": "stderr",
          "output_type": "stream",
          "text": [
            "Train: Loss=0.0243 Batch_id=468 Accuracy=98.56: 100%|██████████| 469/469 [00:16<00:00, 27.97it/s]\n"
          ]
        },
        {
          "name": "stdout",
          "output_type": "stream",
          "text": [
            "Test set: Average loss: 0.0521, Accuracy: 9835/10000 (98.35%)\n",
            "\n",
            "Epoch 12\n"
          ]
        },
        {
          "name": "stderr",
          "output_type": "stream",
          "text": [
            "Train: Loss=0.0580 Batch_id=468 Accuracy=98.63: 100%|██████████| 469/469 [00:15<00:00, 29.84it/s]\n"
          ]
        },
        {
          "name": "stdout",
          "output_type": "stream",
          "text": [
            "Test set: Average loss: 0.0579, Accuracy: 9803/10000 (98.03%)\n",
            "\n",
            "Epoch 13\n"
          ]
        },
        {
          "name": "stderr",
          "output_type": "stream",
          "text": [
            "Train: Loss=0.0200 Batch_id=468 Accuracy=98.70: 100%|██████████| 469/469 [00:15<00:00, 30.13it/s]\n"
          ]
        },
        {
          "name": "stdout",
          "output_type": "stream",
          "text": [
            "Test set: Average loss: 0.0475, Accuracy: 9846/10000 (98.46%)\n",
            "\n",
            "Epoch 14\n"
          ]
        },
        {
          "name": "stderr",
          "output_type": "stream",
          "text": [
            "Train: Loss=0.0224 Batch_id=468 Accuracy=98.78: 100%|██████████| 469/469 [00:16<00:00, 28.65it/s]\n"
          ]
        },
        {
          "name": "stdout",
          "output_type": "stream",
          "text": [
            "Test set: Average loss: 0.0456, Accuracy: 9857/10000 (98.57%)\n",
            "\n",
            "Epoch 15\n"
          ]
        },
        {
          "name": "stderr",
          "output_type": "stream",
          "text": [
            "Train: Loss=0.0229 Batch_id=468 Accuracy=98.84: 100%|██████████| 469/469 [00:15<00:00, 30.01it/s]\n"
          ]
        },
        {
          "name": "stdout",
          "output_type": "stream",
          "text": [
            "Test set: Average loss: 0.0469, Accuracy: 9859/10000 (98.59%)\n",
            "\n"
          ]
        }
      ],
      "source": [
        "debug = False\n",
        "optimizer = optim.SGD(mymodel.parameters(), lr=0.01, momentum=0.9)\n",
        "# scheduler = optim.lr_scheduler.StepLR(optimizer, step_size=15, gamma=0.1, verbose=True)\n",
        "# New Line\n",
        "criterion = F.nll_loss\n",
        "num_epochs = 15\n",
        "\n",
        "for epoch in range(1, num_epochs+1):\n",
        "  print(f'Epoch {epoch}')\n",
        "  train_acc, train_loss = train(mymodel, device, train_loader, optimizer, criterion)\n",
        "  test_acc, test_loss = test(mymodel, device, test_loader, criterion)\n",
        "  train_accs.append(train_acc)\n",
        "  train_losses.append(train_loss)\n",
        "  test_accs.append(test_acc)\n",
        "  test_losses.append(test_loss)"
      ]
    },
    {
      "cell_type": "markdown",
      "metadata": {
        "id": "wBYdhqpx7ML2"
      },
      "source": []
    },
    {
      "cell_type": "markdown",
      "metadata": {
        "id": "R4AGuMJUsEso"
      },
      "source": []
    },
    {
      "cell_type": "markdown",
      "metadata": {
        "id": "B-LM-Z1k6FcF"
      },
      "source": [
        "CODE BLOCK: 11"
      ]
    },
    {
      "cell_type": "markdown",
      "metadata": {
        "id": "SRTtZqmhBXGc"
      },
      "source": [
        "### [8. Model Accuracy and Loss plots visualization](#section-8)\n",
        "- Part of utils\n",
        "- Drawing plots of Training and Testing accuracy and loss\n",
        "- This gives us an understanding of how the accuracy and losses improved over epochs\n",
        "- Also helps to understand where we should have stopped the training for optimum results"
      ]
    },
    {
      "cell_type": "code",
      "execution_count": 14,
      "metadata": {
        "id": "Wu0l7dli4eC9"
      },
      "outputs": [],
      "source": [
        "# utils.drawLossAccuracyPlots(train_losses, train_accs, test_losses, test_accs)"
      ]
    },
    {
      "cell_type": "code",
      "execution_count": 15,
      "metadata": {
        "colab": {
          "base_uri": "https://localhost:8080/",
          "height": 600
        },
        "id": "tiuPNnuoFOOd",
        "outputId": "971dd970-4423-40e9-8d04-7b2636894051"
      },
      "outputs": [
        {
          "data": {
            "text/plain": [
              "Text(0.5, 1.0, 'Test Accuracy')"
            ]
          },
          "execution_count": 15,
          "metadata": {},
          "output_type": "execute_result"
        },
        {
          "data": {
            "image/png": "[encoded data removed]",
            "text/plain": [
              "<Figure size 1500x1000 with 4 Axes>"
            ]
          },
          "metadata": {},
          "output_type": "display_data"
        }
      ],
      "source": [
        "fig, axs = plt.subplots(2,2,figsize=(15,10))\n",
        "axs[0, 0].plot(train_losses)\n",
        "axs[0, 0].set_title(\"Training Loss\")\n",
        "axs[1, 0].plot(train_accs)\n",
        "axs[1, 0].set_title(\"Training Accuracy\")\n",
        "axs[0, 1].plot(test_losses)\n",
        "axs[0, 1].set_title(\"Test Loss\")\n",
        "axs[1, 1].plot(test_accs)\n",
        "axs[1, 1].set_title(\"Test Accuracy\")"
      ]
    },
    {
      "cell_type": "code",
      "execution_count": 15,
      "metadata": {
        "id": "PyKtJ6jw-IhU"
      },
      "outputs": [],
      "source": []
    }
  ],
  "metadata": {
    "accelerator": "GPU",
    "colab": {
      "gpuType": "T4",
      "provenance": []
    },
    "gpuClass": "standard",
    "kernelspec": {
      "display_name": "Python 3 (ipykernel)",
      "language": "python",
      "name": "python3"
    },
    "language_info": {
      "codemirror_mode": {
        "name": "ipython",
        "version": 3
      },
      "file_extension": ".py",
      "mimetype": "text/x-python",
      "name": "python",
      "nbconvert_exporter": "python",
      "pygments_lexer": "ipython3",
      "version": "3.11.5"
    }
  },
  "nbformat": 4,
  "nbformat_minor": 0
}
