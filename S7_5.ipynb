{
  "cells": [
    {
      "cell_type": "markdown",
      "metadata": {
        "id": "n09vaEgP6pLj"
      },
      "source": [
        "CODE BLOCK: 1"
      ]
    },
    {
      "cell_type": "markdown",
      "metadata": {
        "id": "Df6R_VinBXGE"
      },
      "source": [
        "<!--\n",
        ">**This is Bold**\n",
        ">>*This is Italics*\n",
        ">>>- Simple statement\n",
        ">>> - `string`\n",
        ">>>> - $ mathematical symbols $\n",
        ">>>> 1. Number 1\n",
        ">>>> 2. Number 2\n",
        "\n",
        "\n",
        "&#x25BA;\n",
        "\n",
        "\n",
        "*** -->"
      ]
    },
    {
      "cell_type": "markdown",
      "metadata": {
        "id": "DwPH_oyhBXGF"
      },
      "source": [
        "# Session 7 - Assignment\n",
        "## Basic expectations\n",
        "- \\> = 99.4% accuracy\n",
        "- < = 8000\n",
        "- < = 15 epochs\n",
        "\n",
        "## Step 5 - Image augmentation and adaptive LR scheduler\n",
        "\n",
        "### Target:\n",
        "- Look at images and use different image augmentations as per that to increase training complexity\n",
        "  - Center Crop: 24 size crop to remove the outside 4 pixels to remove some edges\n",
        "  - Image rotation: Checked and image rotation of +-10% seemed to be good\n",
        "  - Random perspective change\n",
        "  - Changes like brightness, contrast, saturation, hue, etc to have different types of images\n",
        "- Changed the overall model to have increasing channels instead of the tree structure\n",
        "- Reduced the Dropout to a lower value - Try 0 to 0.1\n",
        "- Move Maxpool after 1st layer to get receptive field of 28\n",
        "- Use adaptive LR scheduler to help with adjusting learning rate\n",
        "- Changed the batch size for training to 64 from 128 for it to backward propogate more times within same number of epochs\n",
        "\n",
        "### Results:\n",
        "- Epochs: 15\n",
        "- Parameters: 7,528\n",
        "- Dropout: 0.02\n",
        "- Training Batch size: 64\n",
        "- Testing Batch size: 128\n",
        "- Training\n",
        "  - Loss=0.0399\n",
        "  - Batch_id=938\n",
        "  - Accuracy=98.84%\n",
        "- Testing\n",
        "  - Average loss: 0.0199\n",
        "  - Accuracy: 9945/10000 (99.45%)\n",
        "\n",
        "### Analysis:\n",
        "- Receptive field of 28 equal to the image size gives us good results\n",
        "- Lower Dropout is giving us good results since params are already quite low\n",
        "- Accuracy has gone up and consistently matching our target\n",
        "- Did not see any overfitting based on the batch normalization, dropout and image transforms used\n",
        "- Used higher learning rate to get faster convergence due to smaller model\n",
        "- Further improvement possible with additional techniques and additional image augmentations that will need to be added to the training data"
      ]
    },
    {
      "cell_type": "markdown",
      "metadata": {
        "id": "7dsrOigmBXGG"
      },
      "source": [
        "### [1. Import appropriate modules required in this file](#section-1)\n",
        "- import model: importing the code written in model.py that is kept in path of current working directory\n",
        "- import utils: Similarly importing code in utils.py"
      ]
    },
    {
      "cell_type": "code",
      "execution_count": 1,
      "metadata": {
        "id": "7FJ13JnGo0QI"
      },
      "outputs": [],
      "source": [
        "# !pip install torchsummary"
      ]
    },
    {
      "cell_type": "code",
      "execution_count": 2,
      "metadata": {
        "id": "6PlbomWY3RSq"
      },
      "outputs": [],
      "source": [
        "import torch\n",
        "import torch.nn as nn\n",
        "import torch.optim as optim\n",
        "import torch.nn.functional as F\n",
        "from torchvision import datasets, transforms\n",
        "from torchsummary import summary\n",
        "from tqdm import tqdm\n",
        "import matplotlib.pyplot as plt"
      ]
    },
    {
      "cell_type": "markdown",
      "metadata": {
        "id": "VjBHHQVA6sXt"
      },
      "source": [
        "CODE BLOCK: 2"
      ]
    },
    {
      "cell_type": "markdown",
      "metadata": {
        "id": "Dw9WOPNVBXGK"
      },
      "source": [
        "### [2. Check if GPU (CUDA) or CPU](#section-2)\n",
        "- Cuda availablbility check to ensure using GPU if available for the network\n",
        "- Taking the value into device variable if cuda (GPU) or only CPU"
      ]
    },
    {
      "cell_type": "code",
      "execution_count": 3,
      "metadata": {
        "colab": {
          "base_uri": "https://localhost:8080/"
        },
        "id": "94BxVVBP3WwS",
        "outputId": "1f7720d3-7e58-403f-831c-d10a64ec43bf"
      },
      "outputs": [
        {
          "output_type": "stream",
          "name": "stdout",
          "text": [
            "CUDA Available? True\n"
          ]
        }
      ],
      "source": [
        "SEED = 1\n",
        "\n",
        "use_cuda = torch.cuda.is_available()\n",
        "print(\"CUDA Available?\", use_cuda)\n",
        "device = torch.device(\"cuda\" if use_cuda else \"cpu\")\n",
        "\n",
        "# For reproducibility\n",
        "torch.manual_seed(SEED)\n",
        "\n",
        "if device==\"cuda\":\n",
        "    torch.cuda.manual_seed(SEED)"
      ]
    },
    {
      "cell_type": "markdown",
      "metadata": {
        "id": "3UHq59Sw6tmW"
      },
      "source": [
        "CODE BLOCK: 3"
      ]
    },
    {
      "cell_type": "markdown",
      "metadata": {
        "id": "q83m4W4eLfBd"
      },
      "source": [
        "### [3. Data transforms for training and testing](#section-3)\n",
        "- Transforms specific to the training and testing\n",
        "- Training to include different transformations for the model to learn\n",
        "- Testing not to have the same to ensure validation is on normal set"
      ]
    },
    {
      "cell_type": "code",
      "execution_count": 4,
      "metadata": {
        "id": "OVfqiUyyLfBe"
      },
      "outputs": [],
      "source": [
        "# Train data transformations\n",
        "train_transforms = transforms.Compose([\n",
        "    transforms.RandomRotation((-10.0, 10.0), fill=(1,)),\n",
        "    transforms.RandomApply([\n",
        "      transforms.CenterCrop(size=(24,24)),\n",
        "      transforms.ColorJitter(brightness=0.10, contrast=0.1, saturation=0.10, hue=0.1),\n",
        "      transforms.RandomPerspective(distortion_scale=0.3, interpolation=3, fill=0),\n",
        "      ], p=0.15\n",
        "    ),\n",
        "    transforms.Resize((28, 28)),\n",
        "    transforms.ToTensor(),\n",
        "    transforms.Normalize((0.1307,), (0.3081,)),\n",
        "    ])\n",
        "\n",
        "# Test data transformations\n",
        "test_transforms = transforms.Compose([\n",
        "    transforms.ToTensor(),\n",
        "    transforms.Normalize((0.1307,), (0.3081,))\n",
        "    ])"
      ]
    },
    {
      "cell_type": "markdown",
      "metadata": {
        "id": "gK3NQ6U6BXGM"
      },
      "source": [
        "### [4. Getting the MNIST train and test dataset from torchvision datasets library](#section-4)\n",
        "- Already separated datasets for train and test\n",
        "- train with *??* records and test with *10000* records\n",
        "- Marking train as True of False decides the train vs test data sets\n",
        "- The transforms are being loaded from utils file\n",
        "- transforms being done on train but not on test"
      ]
    },
    {
      "cell_type": "code",
      "execution_count": 5,
      "metadata": {
        "id": "JB79ZYW13-AO"
      },
      "outputs": [],
      "source": [
        "train = datasets.MNIST('../data', train=True, download=True, transform=train_transforms)\n",
        "test = datasets.MNIST('../data', train=False, download=True, transform=test_transforms)"
      ]
    },
    {
      "cell_type": "markdown",
      "metadata": {
        "id": "_PKSHxto6116"
      },
      "source": [
        "CODE BLOCK: 5"
      ]
    },
    {
      "cell_type": "markdown",
      "metadata": {
        "id": "gjMoEkUJBXGY"
      },
      "source": [
        "### [5. Data loader setup for Training and Testing](#section-5)\n",
        "- Batch size definition - Keeping separate for Training and Testing\n",
        "- Training lower for better training and Testing higher for faster validation\n",
        "- Data loader definition"
      ]
    },
    {
      "cell_type": "code",
      "execution_count": 6,
      "metadata": {
        "id": "avCKK1uL4A68"
      },
      "outputs": [],
      "source": [
        "train_batch_size = 64\n",
        "test_batch_size = 128"
      ]
    },
    {
      "cell_type": "code",
      "execution_count": 7,
      "metadata": {
        "colab": {
          "base_uri": "https://localhost:8080/"
        },
        "id": "uqXVzK3VBXGZ",
        "outputId": "0c459a38-c1f1-4a10-a873-9c76d7e74ccd"
      },
      "outputs": [
        {
          "output_type": "stream",
          "name": "stderr",
          "text": [
            "/usr/local/lib/python3.10/dist-packages/torch/utils/data/dataloader.py:558: UserWarning: This DataLoader will create 4 worker processes in total. Our suggested max number of worker in current system is 2, which is smaller than what this DataLoader is going to create. Please be aware that excessive worker creation might get DataLoader running slow or even freeze, lower the worker number to avoid potential slowness/freeze if necessary.\n",
            "  warnings.warn(_create_warning_msg(\n"
          ]
        }
      ],
      "source": [
        "kwargs = {'shuffle': True, 'num_workers': 4, 'pin_memory': True}\n",
        "\n",
        "train_loader = torch.utils.data.DataLoader(train, batch_size=train_batch_size, **kwargs)\n",
        "test_loader = torch.utils.data.DataLoader(test, batch_size=test_batch_size, **kwargs)"
      ]
    },
    {
      "cell_type": "markdown",
      "metadata": {
        "id": "Hi_0rfq56-29"
      },
      "source": [
        "CODE BLOCK: 6"
      ]
    },
    {
      "cell_type": "markdown",
      "metadata": {
        "id": "cnrOq8wMBXGa"
      },
      "source": [
        "### [6. Data Visualization](#section-6)\n",
        "- Visualization of data to understand the images and corresponding labels\n",
        "- Also gives an understanding of the dataloader like Shuffle, etc."
      ]
    },
    {
      "cell_type": "code",
      "execution_count": 8,
      "metadata": {
        "id": "Hx7QkLcw4Epc",
        "colab": {
          "base_uri": "https://localhost:8080/",
          "height": 442
        },
        "outputId": "01ecd274-c088-46fb-cb27-0ebe6cf18dff"
      },
      "outputs": [
        {
          "output_type": "stream",
          "name": "stdout",
          "text": [
            "torch.Size([64, 1, 28, 28])\n",
            "torch.Size([64])\n"
          ]
        },
        {
          "output_type": "display_data",
          "data": {
            "text/plain": [
              "<Figure size 640x480 with 30 Axes>"
            ],
            "image/png": "[encoded data removed]"
          },
          "metadata": {}
        }
      ],
      "source": [
        "dataiter = iter(train_loader)\n",
        "images, labels = next(dataiter)\n",
        "\n",
        "print(images.shape)\n",
        "print(labels.shape)\n",
        "\n",
        "# Let's visualize some of the images\n",
        "%matplotlib inline\n",
        "\n",
        "batch_data, batch_label = next(iter(train_loader))\n",
        "\n",
        "fig = plt.figure()\n",
        "\n",
        "num_of_images = 30\n",
        "for index in range(1, num_of_images + 1):\n",
        "    plt.subplot(6, 5, index)\n",
        "    plt.axis('off')\n",
        "    plt.imshow(images[index].numpy().squeeze(), cmap='gray_r')"
      ]
    },
    {
      "cell_type": "markdown",
      "metadata": {
        "id": "09GYKBGRAT5M"
      },
      "source": [
        "CODE BLOCK: 10"
      ]
    },
    {
      "cell_type": "markdown",
      "metadata": {
        "id": "NLVQ9d8PBXGb"
      },
      "source": [
        "### [7. Model training](#section-7)\n",
        "- Loading the model on the right device - CUDA or CPU\n",
        "- Setting up the right parameters like epochs, optimizer and scheduler for the training\n",
        "- Running the training and validating the output against Test dataset\n",
        "- While doing that also storing the loss and accuracy results for each epoch for understanding"
      ]
    },
    {
      "cell_type": "code",
      "execution_count": 9,
      "metadata": {
        "id": "7du4zM474LvT"
      },
      "outputs": [],
      "source": [
        "# Data to plot accuracy and loss graphs\n",
        "train_losses = []\n",
        "test_losses = []\n",
        "train_accs = []\n",
        "test_accs = []\n",
        "\n",
        "test_incorrect_pred = {'images': [], 'ground_truths': [], 'predicted_vals': []}"
      ]
    },
    {
      "cell_type": "code",
      "execution_count": 10,
      "metadata": {
        "id": "Q-8TQ7hipb0s"
      },
      "outputs": [],
      "source": [
        "debug = True\n",
        "dropout_value = 0.02\n",
        "# Our base model\n",
        "class Net3(nn.Module):\n",
        "    def __init__(self):\n",
        "        super(Net3, self).__init__()\n",
        "        # Input Block\n",
        "        self.convblock0 = nn.Sequential(\n",
        "            nn.Conv2d(in_channels=1, out_channels=8, kernel_size=(3, 3), padding=1, bias=False),\n",
        "            nn.BatchNorm2d(8),\n",
        "            nn.ReLU(),\n",
        "            nn.Dropout(dropout_value)\n",
        "        ) # output_size = 28  RF = 3\n",
        "\n",
        "        self.pool1 = nn.MaxPool2d(2, 2) # output_size = 14  RF = 4\n",
        "        # CONVOLUTION BLOCK 1\n",
        "        self.convblock1 = nn.Sequential(\n",
        "            nn.Conv2d(in_channels=8, out_channels=8, kernel_size=(3, 3), padding=0, bias=False),\n",
        "            nn.BatchNorm2d(8),\n",
        "            nn.ReLU(),\n",
        "            nn.Dropout(dropout_value)\n",
        "        ) # output_size = 12 RF = 8\n",
        "        self.convblock2 = nn.Sequential(\n",
        "            nn.Conv2d(in_channels=8, out_channels=8, kernel_size=(3, 3), padding=0, bias=False),\n",
        "            nn.BatchNorm2d(8),\n",
        "            nn.ReLU(),\n",
        "            nn.Dropout(dropout_value)\n",
        "        ) # output_size = 10 RF = 12\n",
        "        self.convblock3 = nn.Sequential(\n",
        "            nn.Conv2d(in_channels=8, out_channels=8, kernel_size=(3, 3), padding=0, bias=False),\n",
        "            nn.BatchNorm2d(8),\n",
        "            nn.ReLU(),\n",
        "            nn.Dropout(dropout_value)\n",
        "        ) # output_size = 8 RF = 16\n",
        "        self.convblock4 = nn.Sequential(\n",
        "            nn.Conv2d(in_channels=8, out_channels=16, kernel_size=(3, 3), padding=0, bias=False),\n",
        "            nn.BatchNorm2d(16),\n",
        "            nn.ReLU(),\n",
        "            nn.Dropout(dropout_value)\n",
        "        ) # output_size = 6 RF = 20\n",
        "        self.convblock5 = nn.Sequential(\n",
        "            nn.Conv2d(in_channels=16, out_channels=16, kernel_size=(3, 3), padding=0, bias=False),\n",
        "            nn.BatchNorm2d(16),\n",
        "            nn.ReLU(),\n",
        "            nn.Dropout(dropout_value)\n",
        "        ) # output_size = 4 RF = 24\n",
        "        self.convblock6 = nn.Sequential(\n",
        "            nn.Conv2d(in_channels=16, out_channels=16, kernel_size=(3, 3), padding=0, bias=False),\n",
        "            nn.BatchNorm2d(16),\n",
        "            nn.ReLU(),\n",
        "            nn.Dropout(dropout_value)\n",
        "        ) # output_size = 2 RF = 28\n",
        "        self.convblock7 = nn.Sequential(\n",
        "            nn.Conv2d(in_channels=16, out_channels=16, kernel_size=(3, 3), padding=1, bias=False),\n",
        "            nn.BatchNorm2d(16),\n",
        "            nn.ReLU(),\n",
        "            nn.Dropout(dropout_value)\n",
        "        ) # output_size = 2 RF = 28\n",
        "\n",
        "        # TRANSITION BLOCK 1\n",
        "        self.convblock_t_2 = nn.Sequential(\n",
        "            nn.Conv2d(in_channels=16, out_channels=10, kernel_size=(1, 1), padding=0, bias=False),\n",
        "        ) # output_size = 1\n",
        "\n",
        "        self.gap = nn.Sequential(\n",
        "            nn.AvgPool2d(kernel_size=2) # 7>> 9... nn.AdaptiveAvgPool((1, 1))\n",
        "        ) # output_size = 1\n",
        "\n",
        "    def forward(self, x):\n",
        "        if (debug == True):\n",
        "          print(f\"Start: {x.shape}\")\n",
        "\n",
        "        x = self.convblock0(x)  # channel size 28 > 28  RF 1 > 3    J 1 > 1\n",
        "        if (debug == True):\n",
        "          print(f\"Conv0: {x.shape}\")\n",
        "        x = self.pool1(x)         # channel size 28 > 14  RF 3 > 4    J 1 > 2\n",
        "\n",
        "        x = self.convblock1(x)  # channel size 14 > 12  RF 4 > 8    J 2 > 2\n",
        "        if (debug == True):\n",
        "          print(f\"Conv1: {x.shape}\")\n",
        "        if (debug == True):\n",
        "          print(f\"Pool1: {x.shape}\")\n",
        "        x = self.convblock2(x)  # channel size 12 > 10  RF 8 > 12    J 2 > 2\n",
        "        if (debug == True):\n",
        "          print(f\"Conv2: {x.shape}\")\n",
        "        x = self.convblock3(x)  # channel size 10 > 8  RF 12 > 16    J 2 > 2\n",
        "        if (debug == True):\n",
        "          print(f\"Conv3: {x.shape}\")\n",
        "        x = self.convblock4(x)  # channel size 8 > 6  RF 16 > 20    J 2 > 2\n",
        "        if (debug == True):\n",
        "          print(f\"Conv4: {x.shape}\")\n",
        "        x = self.convblock5(x)  # channel size 6 > 4  RF 20 > 24    J 2 > 2\n",
        "        if (debug == True):\n",
        "          print(f\"Conv5: {x.shape}\")\n",
        "        x = self.convblock6(x)  # channel size 4 > 2  RF 24 > 28    J 2 > 2\n",
        "        if (debug == True):\n",
        "          print(f\"Conv6: {x.shape}\")\n",
        "\n",
        "        x = self.gap(x)         # channel size 2 > 1  RF 28 > 28    J 2 > 2\n",
        "        if (debug == True):\n",
        "          print(f\"GAP: {x.shape}\")\n",
        "\n",
        "        x = self.convblock_t_2(x)  # channel size 1 > 1  RF 28 > 28    J 2 > 2\n",
        "        if (debug == True):\n",
        "          print(f\"Conv_t_2: {x.shape}\")\n",
        "\n",
        "        x = x.view(-1, 10)\n",
        "        if (debug == True):\n",
        "          print(f\"Flatten: {x.shape}\")\n",
        "\n",
        "        return F.log_softmax(x, dim=-1)"
      ]
    },
    {
      "cell_type": "code",
      "execution_count": 11,
      "metadata": {
        "colab": {
          "base_uri": "https://localhost:8080/"
        },
        "id": "l2t2GJ-fp4iw",
        "outputId": "e389866d-9f52-4fd6-df3f-ccf30d6ea8b5"
      },
      "outputs": [
        {
          "output_type": "stream",
          "name": "stdout",
          "text": [
            "Start: torch.Size([2, 1, 28, 28])\n",
            "Conv0: torch.Size([2, 8, 28, 28])\n",
            "Conv1: torch.Size([2, 8, 12, 12])\n",
            "Pool1: torch.Size([2, 8, 12, 12])\n",
            "Conv2: torch.Size([2, 8, 10, 10])\n",
            "Conv3: torch.Size([2, 8, 8, 8])\n",
            "Conv4: torch.Size([2, 16, 6, 6])\n",
            "Conv5: torch.Size([2, 16, 4, 4])\n",
            "Conv6: torch.Size([2, 16, 2, 2])\n",
            "GAP: torch.Size([2, 16, 1, 1])\n",
            "Conv_t_2: torch.Size([2, 10, 1, 1])\n",
            "Flatten: torch.Size([2, 10])\n",
            "----------------------------------------------------------------\n",
            "        Layer (type)               Output Shape         Param #\n",
            "================================================================\n",
            "            Conv2d-1            [-1, 8, 28, 28]              72\n",
            "       BatchNorm2d-2            [-1, 8, 28, 28]              16\n",
            "              ReLU-3            [-1, 8, 28, 28]               0\n",
            "           Dropout-4            [-1, 8, 28, 28]               0\n",
            "         MaxPool2d-5            [-1, 8, 14, 14]               0\n",
            "            Conv2d-6            [-1, 8, 12, 12]             576\n",
            "       BatchNorm2d-7            [-1, 8, 12, 12]              16\n",
            "              ReLU-8            [-1, 8, 12, 12]               0\n",
            "           Dropout-9            [-1, 8, 12, 12]               0\n",
            "           Conv2d-10            [-1, 8, 10, 10]             576\n",
            "      BatchNorm2d-11            [-1, 8, 10, 10]              16\n",
            "             ReLU-12            [-1, 8, 10, 10]               0\n",
            "          Dropout-13            [-1, 8, 10, 10]               0\n",
            "           Conv2d-14              [-1, 8, 8, 8]             576\n",
            "      BatchNorm2d-15              [-1, 8, 8, 8]              16\n",
            "             ReLU-16              [-1, 8, 8, 8]               0\n",
            "          Dropout-17              [-1, 8, 8, 8]               0\n",
            "           Conv2d-18             [-1, 16, 6, 6]           1,152\n",
            "      BatchNorm2d-19             [-1, 16, 6, 6]              32\n",
            "             ReLU-20             [-1, 16, 6, 6]               0\n",
            "          Dropout-21             [-1, 16, 6, 6]               0\n",
            "           Conv2d-22             [-1, 16, 4, 4]           2,304\n",
            "      BatchNorm2d-23             [-1, 16, 4, 4]              32\n",
            "             ReLU-24             [-1, 16, 4, 4]               0\n",
            "          Dropout-25             [-1, 16, 4, 4]               0\n",
            "           Conv2d-26             [-1, 16, 2, 2]           2,304\n",
            "      BatchNorm2d-27             [-1, 16, 2, 2]              32\n",
            "             ReLU-28             [-1, 16, 2, 2]               0\n",
            "          Dropout-29             [-1, 16, 2, 2]               0\n",
            "        AvgPool2d-30             [-1, 16, 1, 1]               0\n",
            "           Conv2d-31             [-1, 10, 1, 1]             160\n",
            "================================================================\n",
            "Total params: 7,880\n",
            "Trainable params: 7,880\n",
            "Non-trainable params: 0\n",
            "----------------------------------------------------------------\n",
            "Input size (MB): 0.00\n",
            "Forward/backward pass size (MB): 0.31\n",
            "Params size (MB): 0.03\n",
            "Estimated Total Size (MB): 0.34\n",
            "----------------------------------------------------------------\n"
          ]
        }
      ],
      "source": [
        "mymodel = Net3().to(device)\n",
        "\n",
        "summary(mymodel, input_size=(1, 28, 28))"
      ]
    },
    {
      "cell_type": "code",
      "execution_count": 12,
      "metadata": {
        "id": "DCamvSRWpyvL"
      },
      "outputs": [],
      "source": [
        "def GetCorrectPredCount(pPrediction, pLabels):\n",
        "  return pPrediction.argmax(dim=1).eq(pLabels).sum().item()\n",
        "\n",
        "def train(model, device, train_loader, optimizer, criterion):\n",
        "  model.train()\n",
        "  pbar = tqdm(train_loader)\n",
        "\n",
        "  train_loss = 0\n",
        "  correct = 0\n",
        "  processed = 0\n",
        "\n",
        "  for batch_idx, (data, target) in enumerate(pbar):\n",
        "    data, target = data.to(device), target.to(device)\n",
        "    optimizer.zero_grad()\n",
        "\n",
        "    # Predict\n",
        "    pred = model(data)\n",
        "\n",
        "    # Calculate loss\n",
        "    loss = criterion(pred, target)\n",
        "    train_loss+=loss.item()\n",
        "\n",
        "    # Backpropagation\n",
        "    loss.backward()\n",
        "    optimizer.step()\n",
        "\n",
        "    correct += GetCorrectPredCount(pred, target)\n",
        "    processed += len(data)\n",
        "\n",
        "    pbar.set_description(desc= f'Train: Loss={loss.item():0.4f} Batch_id={batch_idx} Accuracy={100*correct/processed:0.2f}')\n",
        "\n",
        "  train_acc= 100*correct/processed\n",
        "  print('\\nProcessed: {}, Len TrainLoader: {}'.format(processed, len(train_loader)))\n",
        "  # train_losses.append(train_loss/len(train_loader))\n",
        "  train_loss = train_loss/len(train_loader)\n",
        "  print('Train set: Average loss: {:.4f}, Accuracy: {}/{} ({:.2f}%)'.format(\n",
        "      train_loss, correct, len(train_loader.dataset),\n",
        "      100. * correct / len(train_loader.dataset)))\n",
        "\n",
        "  return train_acc, train_loss\n",
        "\n",
        "def test(model, device, test_loader, criterion):\n",
        "    model.eval()\n",
        "\n",
        "    test_loss = 0\n",
        "    correct = 0\n",
        "\n",
        "    with torch.no_grad():\n",
        "        for batch_idx, (data, target) in enumerate(test_loader):\n",
        "            data, target = data.to(device), target.to(device)\n",
        "\n",
        "            output = model(data)\n",
        "            test_loss += criterion(output, target, reduction='sum').item()  # sum up batch loss\n",
        "\n",
        "            correct += GetCorrectPredCount(output, target)\n",
        "\n",
        "\n",
        "    test_loss /= len(test_loader.dataset)\n",
        "    test_acc = (100. * correct / len(test_loader.dataset))\n",
        "    # test_losses.append(test_loss)\n",
        "\n",
        "    print('Test set: Average loss: {:.4f}, Accuracy: {}/{} ({:.2f}%)'.format(\n",
        "        test_loss, correct, len(test_loader.dataset),\n",
        "        100. * correct / len(test_loader.dataset)))\n",
        "    return test_acc, test_loss"
      ]
    },
    {
      "cell_type": "code",
      "execution_count": 13,
      "metadata": {
        "colab": {
          "base_uri": "https://localhost:8080/"
        },
        "id": "Owqiet9M4TV7",
        "outputId": "707f2c08-0bc1-4c1a-8148-49eed382a388"
      },
      "outputs": [
        {
          "metadata": {
            "tags": null
          },
          "name": "stderr",
          "output_type": "stream",
          "text": [
            "/usr/local/lib/python3.10/dist-packages/torch/optim/lr_scheduler.py:28: UserWarning: The verbose parameter is deprecated. Please use get_last_lr() to access the learning rate.\n",
            "  warnings.warn(\"The verbose parameter is deprecated. Please use get_last_lr() \"\n"
          ]
        },
        {
          "metadata": {
            "tags": null
          },
          "name": "stdout",
          "output_type": "stream",
          "text": [
            "Epoch 1\n"
          ]
        },
        {
          "metadata": {
            "tags": null
          },
          "name": "stderr",
          "output_type": "stream",
          "text": [
            "Train: Loss=0.1999 Batch_id=937 Accuracy=92.16: 100%|██████████| 938/938 [00:51<00:00, 18.21it/s]"
          ]
        },
        {
          "metadata": {
            "tags": null
          },
          "name": "stdout",
          "output_type": "stream",
          "text": [
            "\n",
            "Processed: 60000, Len TrainLoader: 938\n",
            "Train set: Average loss: 0.2604, Accuracy: 55296/60000 (92.16%)\n"
          ]
        },
        {
          "metadata": {
            "tags": null
          },
          "name": "stderr",
          "output_type": "stream",
          "text": [
            "\n"
          ]
        },
        {
          "metadata": {
            "tags": null
          },
          "name": "stdout",
          "output_type": "stream",
          "text": [
            "Test set: Average loss: 0.0604, Accuracy: 9818/10000 (98.18%)\n",
            "LR Rate: 0.02 \n",
            "\n",
            "Epoch 2\n"
          ]
        },
        {
          "metadata": {
            "tags": null
          },
          "name": "stderr",
          "output_type": "stream",
          "text": [
            "Train: Loss=0.0883 Batch_id=937 Accuracy=97.36: 100%|██████████| 938/938 [00:39<00:00, 23.76it/s]"
          ]
        },
        {
          "metadata": {
            "tags": null
          },
          "name": "stdout",
          "output_type": "stream",
          "text": [
            "\n",
            "Processed: 60000, Len TrainLoader: 938\n",
            "Train set: Average loss: 0.0874, Accuracy: 58416/60000 (97.36%)\n"
          ]
        },
        {
          "metadata": {
            "tags": null
          },
          "name": "stderr",
          "output_type": "stream",
          "text": [
            "\n"
          ]
        },
        {
          "metadata": {
            "tags": null
          },
          "name": "stdout",
          "output_type": "stream",
          "text": [
            "Test set: Average loss: 0.0385, Accuracy: 9877/10000 (98.77%)\n",
            "LR Rate: 0.02 \n",
            "\n",
            "Epoch 3\n"
          ]
        },
        {
          "metadata": {
            "tags": null
          },
          "name": "stderr",
          "output_type": "stream",
          "text": [
            "Train: Loss=0.0517 Batch_id=937 Accuracy=97.81: 100%|██████████| 938/938 [00:38<00:00, 24.22it/s]\n"
          ]
        },
        {
          "metadata": {
            "tags": null
          },
          "name": "stdout",
          "output_type": "stream",
          "text": [
            "\n",
            "Processed: 60000, Len TrainLoader: 938\n",
            "Train set: Average loss: 0.0720, Accuracy: 58684/60000 (97.81%)\n",
            "Test set: Average loss: 0.0330, Accuracy: 9890/10000 (98.90%)\n",
            "LR Rate: 0.02 \n",
            "\n",
            "Epoch 4\n"
          ]
        },
        {
          "output_type": "stream",
          "name": "stderr",
          "text": [
            "Train: Loss=0.0399 Batch_id=937 Accuracy=98.00: 100%|██████████| 938/938 [00:38<00:00, 24.16it/s]"
          ]
        },
        {
          "output_type": "stream",
          "name": "stdout",
          "text": [
            "\n",
            "Processed: 60000, Len TrainLoader: 938\n",
            "Train set: Average loss: 0.0656, Accuracy: 58799/60000 (98.00%)\n"
          ]
        },
        {
          "output_type": "stream",
          "name": "stderr",
          "text": [
            "\n"
          ]
        },
        {
          "output_type": "stream",
          "name": "stdout",
          "text": [
            "Test set: Average loss: 0.0253, Accuracy: 9922/10000 (99.22%)\n",
            "LR Rate: 0.02 \n",
            "\n",
            "Epoch 5\n"
          ]
        },
        {
          "output_type": "stream",
          "name": "stderr",
          "text": [
            "Train: Loss=0.0638 Batch_id=937 Accuracy=98.17: 100%|██████████| 938/938 [00:40<00:00, 23.40it/s]"
          ]
        },
        {
          "output_type": "stream",
          "name": "stdout",
          "text": [
            "\n",
            "Processed: 60000, Len TrainLoader: 938\n",
            "Train set: Average loss: 0.0592, Accuracy: 58905/60000 (98.17%)\n"
          ]
        },
        {
          "output_type": "stream",
          "name": "stderr",
          "text": [
            "\n"
          ]
        },
        {
          "output_type": "stream",
          "name": "stdout",
          "text": [
            "Test set: Average loss: 0.0292, Accuracy: 9908/10000 (99.08%)\n",
            "LR Rate: 0.02 \n",
            "\n",
            "Epoch 6\n"
          ]
        },
        {
          "output_type": "stream",
          "name": "stderr",
          "text": [
            "Train: Loss=0.0034 Batch_id=937 Accuracy=98.28: 100%|██████████| 938/938 [00:40<00:00, 23.00it/s]"
          ]
        },
        {
          "output_type": "stream",
          "name": "stdout",
          "text": [
            "\n",
            "Processed: 60000, Len TrainLoader: 938\n",
            "Train set: Average loss: 0.0558, Accuracy: 58965/60000 (98.28%)\n"
          ]
        },
        {
          "output_type": "stream",
          "name": "stderr",
          "text": [
            "\n"
          ]
        },
        {
          "output_type": "stream",
          "name": "stdout",
          "text": [
            "Test set: Average loss: 0.0251, Accuracy: 9923/10000 (99.23%)\n",
            "LR Rate: 0.02 \n",
            "\n",
            "Epoch 7\n"
          ]
        },
        {
          "output_type": "stream",
          "name": "stderr",
          "text": [
            "Train: Loss=0.1345 Batch_id=937 Accuracy=98.39: 100%|██████████| 938/938 [00:38<00:00, 24.13it/s]"
          ]
        },
        {
          "output_type": "stream",
          "name": "stdout",
          "text": [
            "\n",
            "Processed: 60000, Len TrainLoader: 938\n",
            "Train set: Average loss: 0.0516, Accuracy: 59031/60000 (98.39%)\n"
          ]
        },
        {
          "output_type": "stream",
          "name": "stderr",
          "text": [
            "\n"
          ]
        },
        {
          "output_type": "stream",
          "name": "stdout",
          "text": [
            "Test set: Average loss: 0.0280, Accuracy: 9908/10000 (99.08%)\n",
            "LR Rate: 0.02 \n",
            "\n",
            "Epoch 8\n"
          ]
        },
        {
          "output_type": "stream",
          "name": "stderr",
          "text": [
            "Train: Loss=0.0254 Batch_id=937 Accuracy=98.45: 100%|██████████| 938/938 [00:38<00:00, 24.44it/s]"
          ]
        },
        {
          "output_type": "stream",
          "name": "stdout",
          "text": [
            "\n",
            "Processed: 60000, Len TrainLoader: 938\n",
            "Train set: Average loss: 0.0500, Accuracy: 59072/60000 (98.45%)\n"
          ]
        },
        {
          "output_type": "stream",
          "name": "stderr",
          "text": [
            "\n"
          ]
        },
        {
          "output_type": "stream",
          "name": "stdout",
          "text": [
            "Test set: Average loss: 0.0304, Accuracy: 9888/10000 (98.88%)\n",
            "LR Rate: 0.02 \n",
            "\n",
            "Epoch 9\n"
          ]
        },
        {
          "output_type": "stream",
          "name": "stderr",
          "text": [
            "Train: Loss=0.0701 Batch_id=937 Accuracy=98.53: 100%|██████████| 938/938 [00:38<00:00, 24.48it/s]"
          ]
        },
        {
          "output_type": "stream",
          "name": "stdout",
          "text": [
            "\n",
            "Processed: 60000, Len TrainLoader: 938\n",
            "Train set: Average loss: 0.0474, Accuracy: 59115/60000 (98.53%)\n"
          ]
        },
        {
          "output_type": "stream",
          "name": "stderr",
          "text": [
            "\n"
          ]
        },
        {
          "output_type": "stream",
          "name": "stdout",
          "text": [
            "Test set: Average loss: 0.0217, Accuracy: 9939/10000 (99.39%)\n",
            "LR Rate: 0.02 \n",
            "\n",
            "Epoch 10\n"
          ]
        },
        {
          "output_type": "stream",
          "name": "stderr",
          "text": [
            "Train: Loss=0.1053 Batch_id=937 Accuracy=98.63: 100%|██████████| 938/938 [00:38<00:00, 24.25it/s]"
          ]
        },
        {
          "output_type": "stream",
          "name": "stdout",
          "text": [
            "\n",
            "Processed: 60000, Len TrainLoader: 938\n",
            "Train set: Average loss: 0.0445, Accuracy: 59179/60000 (98.63%)\n"
          ]
        },
        {
          "output_type": "stream",
          "name": "stderr",
          "text": [
            "\n"
          ]
        },
        {
          "output_type": "stream",
          "name": "stdout",
          "text": [
            "Test set: Average loss: 0.0246, Accuracy: 9919/10000 (99.19%)\n",
            "LR Rate: 0.02 \n",
            "\n",
            "Epoch 11\n"
          ]
        },
        {
          "output_type": "stream",
          "name": "stderr",
          "text": [
            "Train: Loss=0.0470 Batch_id=937 Accuracy=98.58: 100%|██████████| 938/938 [00:39<00:00, 23.61it/s]"
          ]
        },
        {
          "output_type": "stream",
          "name": "stdout",
          "text": [
            "\n",
            "Processed: 60000, Len TrainLoader: 938\n",
            "Train set: Average loss: 0.0455, Accuracy: 59148/60000 (98.58%)\n"
          ]
        },
        {
          "output_type": "stream",
          "name": "stderr",
          "text": [
            "\n"
          ]
        },
        {
          "output_type": "stream",
          "name": "stdout",
          "text": [
            "Test set: Average loss: 0.0224, Accuracy: 9924/10000 (99.24%)\n",
            "LR Rate: 0.02 \n",
            "\n",
            "Epoch 12\n"
          ]
        },
        {
          "output_type": "stream",
          "name": "stderr",
          "text": [
            "Train: Loss=0.0556 Batch_id=937 Accuracy=98.63: 100%|██████████| 938/938 [00:38<00:00, 24.28it/s]"
          ]
        },
        {
          "output_type": "stream",
          "name": "stdout",
          "text": [
            "\n",
            "Processed: 60000, Len TrainLoader: 938\n",
            "Train set: Average loss: 0.0429, Accuracy: 59179/60000 (98.63%)\n"
          ]
        },
        {
          "output_type": "stream",
          "name": "stderr",
          "text": [
            "\n"
          ]
        },
        {
          "output_type": "stream",
          "name": "stdout",
          "text": [
            "Test set: Average loss: 0.0204, Accuracy: 9938/10000 (99.38%)\n",
            "LR Rate: 0.02 \n",
            "\n",
            "Epoch 13\n"
          ]
        },
        {
          "output_type": "stream",
          "name": "stderr",
          "text": [
            "Train: Loss=0.0389 Batch_id=937 Accuracy=98.71: 100%|██████████| 938/938 [00:38<00:00, 24.24it/s]"
          ]
        },
        {
          "output_type": "stream",
          "name": "stdout",
          "text": [
            "\n",
            "Processed: 60000, Len TrainLoader: 938\n",
            "Train set: Average loss: 0.0427, Accuracy: 59225/60000 (98.71%)\n"
          ]
        },
        {
          "output_type": "stream",
          "name": "stderr",
          "text": [
            "\n"
          ]
        },
        {
          "output_type": "stream",
          "name": "stdout",
          "text": [
            "Test set: Average loss: 0.0186, Accuracy: 9944/10000 (99.44%)\n",
            "LR Rate: 0.02 \n",
            "\n",
            "Epoch 14\n"
          ]
        },
        {
          "output_type": "stream",
          "name": "stderr",
          "text": [
            "Train: Loss=0.0286 Batch_id=937 Accuracy=98.68: 100%|██████████| 938/938 [00:38<00:00, 24.43it/s]"
          ]
        },
        {
          "output_type": "stream",
          "name": "stdout",
          "text": [
            "\n",
            "Processed: 60000, Len TrainLoader: 938\n",
            "Train set: Average loss: 0.0429, Accuracy: 59206/60000 (98.68%)\n"
          ]
        },
        {
          "output_type": "stream",
          "name": "stderr",
          "text": [
            "\n"
          ]
        },
        {
          "output_type": "stream",
          "name": "stdout",
          "text": [
            "Test set: Average loss: 0.0191, Accuracy: 9942/10000 (99.42%)\n",
            "LR Rate: 0.02 \n",
            "\n",
            "Epoch 15\n"
          ]
        },
        {
          "output_type": "stream",
          "name": "stderr",
          "text": [
            "Train: Loss=0.0895 Batch_id=937 Accuracy=98.84: 100%|██████████| 938/938 [00:39<00:00, 24.01it/s]"
          ]
        },
        {
          "output_type": "stream",
          "name": "stdout",
          "text": [
            "\n",
            "Processed: 60000, Len TrainLoader: 938\n",
            "Train set: Average loss: 0.0399, Accuracy: 59305/60000 (98.84%)\n"
          ]
        },
        {
          "output_type": "stream",
          "name": "stderr",
          "text": [
            "\n"
          ]
        },
        {
          "output_type": "stream",
          "name": "stdout",
          "text": [
            "Test set: Average loss: 0.0199, Accuracy: 9945/10000 (99.45%)\n",
            "LR Rate: 0.02 \n",
            "\n"
          ]
        }
      ],
      "source": [
        "debug = False\n",
        "optimizer = optim.SGD(mymodel.parameters(), lr=0.02, momentum=0.9)\n",
        "scheduler = optim.lr_scheduler.ReduceLROnPlateau(optimizer, patience=2, factor=0.1, threshold_mode='rel', verbose=True)\n",
        "criterion = F.nll_loss\n",
        "num_epochs = 15\n",
        "\n",
        "for epoch in range(1, num_epochs+1):\n",
        "  print(f'Epoch {epoch}')\n",
        "  train_acc, train_loss = train(mymodel, device, train_loader, optimizer, criterion)\n",
        "  test_acc, test_loss = test(mymodel, device, test_loader, criterion)\n",
        "  scheduler.step(test_loss)\n",
        "  print(\"LR Rate:\", optimizer.param_groups[0]['lr'], \"\\n\")\n",
        "  train_accs.append(train_acc)\n",
        "  train_losses.append(train_loss)\n",
        "  test_accs.append(test_acc)\n",
        "  test_losses.append(test_loss)"
      ]
    },
    {
      "cell_type": "markdown",
      "metadata": {
        "id": "B-LM-Z1k6FcF"
      },
      "source": [
        "CODE BLOCK: 11"
      ]
    },
    {
      "cell_type": "markdown",
      "metadata": {
        "id": "SRTtZqmhBXGc"
      },
      "source": [
        "### [8. Model Accuracy and Loss plots visualization](#section-8)\n",
        "- Part of utils\n",
        "- Drawing plots of Training and Testing accuracy and loss\n",
        "- This gives us an understanding of how the accuracy and losses improved over epochs\n",
        "- Also helps to understand where we should have stopped the training for optimum results"
      ]
    },
    {
      "cell_type": "code",
      "execution_count": 14,
      "metadata": {
        "id": "Wu0l7dli4eC9"
      },
      "outputs": [],
      "source": [
        "# utils.drawLossAccuracyPlots(train_losses, train_accs, test_losses, test_accs)"
      ]
    },
    {
      "cell_type": "code",
      "execution_count": 15,
      "metadata": {
        "colab": {
          "base_uri": "https://localhost:8080/",
          "height": 871
        },
        "id": "tiuPNnuoFOOd",
        "outputId": "2a3eeb4c-b4ca-48ab-e68e-e4e0f5b06a08"
      },
      "outputs": [
        {
          "output_type": "execute_result",
          "data": {
            "text/plain": [
              "Text(0.5, 1.0, 'Test Accuracy')"
            ]
          },
          "metadata": {},
          "execution_count": 15
        },
        {
          "output_type": "display_data",
          "data": {
            "text/plain": [
              "<Figure size 1500x1000 with 4 Axes>"
            ],
            "image/png": "[encoded data removed]"
          },
          "metadata": {}
        }
      ],
      "source": [
        "fig, axs = plt.subplots(2,2,figsize=(15,10))\n",
        "axs[0, 0].plot(train_losses)\n",
        "axs[0, 0].set_title(\"Training Loss\")\n",
        "axs[1, 0].plot(train_accs)\n",
        "axs[1, 0].set_title(\"Training Accuracy\")\n",
        "axs[0, 1].plot(test_losses)\n",
        "axs[0, 1].set_title(\"Test Loss\")\n",
        "axs[1, 1].plot(test_accs)\n",
        "axs[1, 1].set_title(\"Test Accuracy\")"
      ]
    },
    {
      "cell_type": "code",
      "execution_count": 15,
      "metadata": {
        "id": "PyKtJ6jw-IhU"
      },
      "outputs": [],
      "source": []
    }
  ],
  "metadata": {
    "accelerator": "GPU",
    "colab": {
      "gpuType": "T4",
      "provenance": []
    },
    "gpuClass": "standard",
    "kernelspec": {
      "display_name": "Python 3 (ipykernel)",
      "language": "python",
      "name": "python3"
    },
    "language_info": {
      "codemirror_mode": {
        "name": "ipython",
        "version": 3
      },
      "file_extension": ".py",
      "mimetype": "text/x-python",
      "name": "python",
      "nbconvert_exporter": "python",
      "pygments_lexer": "ipython3",
      "version": "3.11.5"
    }
  },
  "nbformat": 4,
  "nbformat_minor": 0
}
